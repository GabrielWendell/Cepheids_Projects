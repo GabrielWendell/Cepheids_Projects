{
 "cells": [
  {
   "cell_type": "code",
   "execution_count": 1,
   "id": "ac6b5e63",
   "metadata": {},
   "outputs": [],
   "source": [
    "# Access astronomical databases\n",
    "from pyvo import registry  # version >=1.4.1 \n",
    "\n",
    "# Moc and HEALPix tools\n",
    "from mocpy import MOC\n",
    "\n",
    "# Sky visualization\n",
    "from ipyaladin import Aladin    # version >=0.3.0\n",
    "\n",
    "# For plots\n",
    "import matplotlib.pyplot as plt"
   ]
  },
  {
   "cell_type": "markdown",
   "id": "fcf872af",
   "metadata": {},
   "source": [
    "# Welcome to VizieR example workflow\n",
    "\n",
    "[![Vizier](https://custom-icon-badges.demolab.com/badge/Vizier-gray.svg?logo=vizier&logoColor=orange&logoWidth=20)](https://vizier.cds.unistra.fr/viz-bin/VizieR \"https://vizier.cds.unistra.fr/viz-bin/VizieR\")\n",
    "\n",
    "It is a generic notebook, highlighting what can be done once you chose a catalog. This workflow is suggested by [CDS](https://cdsweb.unistra.fr/) (Strasbourg Astronomical Data Center, house of [VizieR](https://vizier.cds.unistra.fr/viz-bin/VizieR)).\n",
    "\n",
    "--------------------------------------------------------\n",
    "\n",
    "Modify the <a href='https://vizier.cds.unistra.fr/'>VizieR catalogue</a> name (variable <b>CATALOGUE</b>) and anything else you might feel like exploring!\n",
    "\n",
    "## 1. Setup\n",
    "\n",
    "This example notebook has the following dependencies: \n",
    "\n",
    "**Required**\n",
    "- pyvo : this library facilitates the access to the Virtual Observatory (VO) resources. VizieR is part of the VO.\n",
    "This notebook needs version >=1.4.1\n",
    "\n",
    "**Optional, for visualization**\n",
    "- ipyaladin : this is the Aladin-lite sky viewer, bundled as a jupyter widget. It allows to plot catalogs and multi-order coverages (MOC)\n",
    "- matplotlib : an other option to see catalog points and MOCs\n",
    "\n",
    "## 2. Metadata exploration with the Virtual Observatory registry\n",
    "\n",
    "This part uses [pyvo](https://pyvo.readthedocs.io/en) to connect to the VO registry."
   ]
  },
  {
   "cell_type": "code",
   "execution_count": 2,
   "id": "89521654",
   "metadata": {},
   "outputs": [],
   "source": [
    "# The catalogue name in VizieR\n",
    "CATALOGUE = \"J/A+A/683/A234\""
   ]
  },
  {
   "cell_type": "markdown",
   "id": "af9cd7c1",
   "metadata": {},
   "source": [
    "We first retrieve catalogue information."
   ]
  },
  {
   "cell_type": "code",
   "execution_count": 3,
   "id": "64af8ad3",
   "metadata": {},
   "outputs": [],
   "source": [
    "# Each resource in the VO has an identifier, called ivoid. For vizier catalogs,\n",
    "# The VO ids can be constructed like this:\n",
    "catalogue_ivoid = f\"ivo://CDS.VizieR/{CATALOGUE}\"\n",
    "# The actual query to the registry\n",
    "voresource = registry.search(ivoid = catalogue_ivoid)[0]"
   ]
  },
  {
   "cell_type": "code",
   "execution_count": 4,
   "id": "1c253194",
   "metadata": {},
   "outputs": [
    {
     "name": "stdout",
     "output_type": "stream",
     "text": [
      "Cepheid Metallicity in the Leavitt Law Survey\n",
      "Short Name: J/A+A/683/A234\n",
      "IVOA Identifier: ivo://cds.vizier/j/a+a/683/a234\n",
      "Access modes: conesearch, tap#aux, web\n",
      "Multi-capability service -- use get_service()\n",
      "\n",
      "The highly debated effect of metallicity on the absolute magnitudes of\n",
      "classical Cepheid variables needs to be properly quantified for determining\n",
      "accurate and precise distances based on their Leavitt Law. Our goal is to\n",
      "obtain homogeneous optical and near-infrared light curves of Milky Way Cepheid\n",
      "variables complementing their already collected high-resolution spectroscopic\n",
      "metallicities as part of the C-MetaLL survey. Together with Gaia parallaxes,\n",
      "we investigate period-luminosity-metallicity relations for Cepheid variables\n",
      "at multiple wavelengths. We present homogeneous multiband (grizJHKs) time-\n",
      "series observations of 78 Cepheids including 49 fundamental mode variables and\n",
      "29 first-overtone mode variables. These observations were collected\n",
      "simultaneously using the ROS2 and REMIR instruments at the Rapid Eye Mount\n",
      "telescope. The Cepheid sample covers a large range of distances (0.5-19.7kpc)\n",
      "with varying precision of parallaxes, and thus astrometry-based luminosity\n",
      "fits were used to derive PL and PW relations in optical Sloan (griz) and near-\n",
      "infrared (JHKs) filters. These empirically calibrated relations exhibit large\n",
      "scatter primarily due to larger uncertainties in parallaxes of distant\n",
      "Cepheids, but their slopes agree well with those previously determined in the\n",
      "literature. Using homogeneous high-resolution spectroscopic metallicities of\n",
      "61 Cepheids covering -1.1<[Fe/H]<0.6dex, we quantified the metallicity\n",
      "dependence of PL and PW relations which varies between -0.30+/-0.11 (in Ks)\n",
      "and -0.55+/-0.12 (in z) mag/dex in grizJHKs bands. However, the metallicity\n",
      "dependence in the residuals of the PL and PW relations is predominantly seen\n",
      "for metal-poor stars ([Fe/H]<-0.3dex), which also have larger parallax\n",
      "uncertainties. The modest sample size precludes us from separating the\n",
      "contribution to the residuals due to parallax uncertainties, metallicity\n",
      "effects, and reddening errors. While this Cepheid sample is not optimal for\n",
      "calibrating the Leavitt law, upcoming photometric and spectroscopic datasets\n",
      "of the C-MetaLL survey will allow the accurate derivation of PL and PW\n",
      "relations in the Sloan and near-infrared bandpasses, which will be useful for\n",
      "the distance measurements in the era of the Vera C. Rubin Observatory's Legacy\n",
      "Survey of Space and Time and upcoming extremely large telescopes.\n",
      "\n",
      "Waveband Coverage: optical\n",
      "\n",
      "Source: 2024A&A...683A.234B\n",
      "Authors: Bhardwaj A.,  Ripepi V.,  Testa V.,  Molinaro R.,  Marconi M. et al.\n",
      "See creators attribute for the complete list of authors.\n",
      "More info: https://cdsarc.cds.unistra.fr/viz-bin/cat/J/A+A/683/A234\n"
     ]
    }
   ],
   "source": [
    "# We can print metadata information about the catalogue\n",
    "voresource.describe(verbose = True)"
   ]
  },
  {
   "cell_type": "markdown",
   "id": "191ef2e8",
   "metadata": {},
   "source": [
    "We can also inspect in details the `resource` object and access the attributes not provided by the describe method. See for example, the first author of a resource: "
   ]
  },
  {
   "cell_type": "code",
   "execution_count": 5,
   "id": "f46c3b10",
   "metadata": {},
   "outputs": [
    {
     "data": {
      "text/plain": [
       "'Bhardwaj A.'"
      ]
     },
     "execution_count": 5,
     "metadata": {},
     "output_type": "execute_result"
    }
   ],
   "source": [
    "voresource.creators[0]"
   ]
  },
  {
   "cell_type": "markdown",
   "id": "9e4859fc",
   "metadata": {},
   "source": [
    "## 3. Access the tabular data of this catalog\n",
    "\n",
    "We can have a look at the tables available in the catalogue."
   ]
  },
  {
   "cell_type": "code",
   "execution_count": 6,
   "id": "8b17eec5",
   "metadata": {},
   "outputs": [
    {
     "name": "stderr",
     "output_type": "stream",
     "text": [
      "WARNING: W02: ?:?:?: W02: '' is not a valid datatype according to the VOSI spec [pyvo.io.vosi.vodataservice]\n"
     ]
    },
    {
     "data": {
      "text/plain": [
       "{'J/A+A/683/A234/table1': <VODataServiceTable name=\"J/A+A/683/A234/table1\">... 28 columns ...</VODataServiceTable>}"
      ]
     },
     "execution_count": 6,
     "metadata": {},
     "output_type": "execute_result"
    }
   ],
   "source": [
    "tables = voresource.get_tables()\n",
    "tables"
   ]
  },
  {
   "cell_type": "code",
   "execution_count": 7,
   "id": "1bf131a7",
   "metadata": {},
   "outputs": [
    {
     "data": {
      "text/plain": [
       "['J/A+A/683/A234/table1']"
      ]
     },
     "execution_count": 7,
     "metadata": {},
     "output_type": "execute_result"
    }
   ],
   "source": [
    "# We can also extract the tables names for later use\n",
    "tables_names = list(tables.keys())\n",
    "tables_names"
   ]
  },
  {
   "cell_type": "markdown",
   "id": "bb93dd52",
   "metadata": {},
   "source": [
    "The actual data can then be access using any of the ``access_modes`` of the voresource."
   ]
  },
  {
   "cell_type": "code",
   "execution_count": 8,
   "id": "52994057",
   "metadata": {},
   "outputs": [
    {
     "data": {
      "text/plain": [
       "{'conesearch', 'tap#aux', 'web'}"
      ]
     },
     "execution_count": 8,
     "metadata": {},
     "output_type": "execute_result"
    }
   ],
   "source": [
    "voresource.access_modes()"
   ]
  },
  {
   "cell_type": "markdown",
   "id": "aad7a681",
   "metadata": {},
   "source": [
    "The web access is found by following the ``reference_url``"
   ]
  },
  {
   "cell_type": "code",
   "execution_count": 9,
   "id": "2f01bf88",
   "metadata": {},
   "outputs": [
    {
     "data": {
      "text/plain": [
       "'https://cdsarc.cds.unistra.fr/viz-bin/cat/J/A+A/683/A234'"
      ]
     },
     "execution_count": 9,
     "metadata": {},
     "output_type": "execute_result"
    }
   ],
   "source": [
    "voresource.reference_url"
   ]
  },
  {
   "cell_type": "markdown",
   "id": "b83f4b43",
   "metadata": {},
   "source": [
    "### 3.1 Execute a SQL/ADQL query\n",
    "\n",
    "The ``tap#aux`` in the ``access_mode`` response indicates that we can also do a SQL/ADQL query for these VizieR tables.\n",
    "\n",
    "On the first table of the catalogue, we execute an <a href='https://www.ivoa.net/documents/latest/ADQL.html'>ADQL</a> query."
   ]
  },
  {
   "cell_type": "code",
   "execution_count": 10,
   "id": "ec0a7cfe",
   "metadata": {},
   "outputs": [
    {
     "data": {
      "text/plain": [
       "<DALResultsTable length=10>\n",
       "recno       GaiaDR3       n_GaiaDR3   Per    ... e_[Fe/H]    _RA       _DE   \n",
       "                                       d     ...             deg       deg   \n",
       "int32        int64           str1   float64  ... float64   float64   float64 \n",
       "----- ------------------- --------- -------- ... -------- --------- ---------\n",
       "    1 1825190337236422016           32.06123 ...     0.11 293.93649  18.94518\n",
       "    2 1825428480248517376             5.9387 ...      0.5 293.56564  19.57069\n",
       "    3 1834213582473654144            5.63099 ...     0.15 299.72294   24.3951\n",
       "    4 2018385387883485056           70.79719 ...       -- 294.96545  22.26931\n",
       "    5 2936063665309240576            1.97524 ...     0.17 107.55532  -15.1994\n",
       "    6 2936165984303583360            3.52263 ...     0.13 105.87696 -15.54335\n",
       "    7 2936274153063501824            6.38872 ...     0.11 107.13206 -14.90745\n",
       "    8 2940212053953709312           16.93958 ...     0.19  97.41343 -18.67407\n",
       "    9 2947876298535964416             2.4159 ...     0.11 104.49359  -15.3574\n",
       "   10 2949613084534085760            3.86845 ...      0.1 103.66101 -13.45176"
      ]
     },
     "execution_count": 10,
     "metadata": {},
     "output_type": "execute_result"
    }
   ],
   "source": [
    "# Get the first table of the catalogue\n",
    "first_table_name = tables_names[0]\n",
    "\n",
    "# Execute a synchronous ADQL query\n",
    "tap_service = voresource.get_service(\"tap\")\n",
    "tap_records = voresource.get_service(\"tap\").run_sync(\n",
    "    f'select TOP 10 * from \"{first_table_name}\"',\n",
    ")\n",
    "tap_records"
   ]
  },
  {
   "cell_type": "markdown",
   "id": "88418327",
   "metadata": {},
   "source": [
    "<!-- section position -->\n",
    "\n",
    "We will explore the other access modes here.\n",
    "\n",
    "### 3.2. Execute a cone search query\n",
    "\n",
    "We use the Simple Cone Search (<a href='https://www.ivoa.net/documents/latest/ConeSearch.html'>SCS</a>) protocol of the virtual observatory (only available for tables with positions).\n",
    "\n",
    "Adapt the radius and position of the center to your needs."
   ]
  },
  {
   "cell_type": "code",
   "execution_count": 11,
   "id": "7db11f8b",
   "metadata": {},
   "outputs": [],
   "source": [
    "conesearch_radius = 1 / 60.0  # in degrees\n",
    "conesearch_center = (293.9501953125, 18.937967068581862)"
   ]
  },
  {
   "cell_type": "code",
   "execution_count": 12,
   "id": "448e82b7",
   "metadata": {},
   "outputs": [
    {
     "data": {
      "text/plain": [
       "<DALResultsTable length=1>\n",
       "   _r    recno       GaiaDR3       n_GaiaDR3 ... Simbad    _RA       _DE   \n",
       "                                             ...           deg       deg   \n",
       "float64  int32        str19           str1   ...  str6   float64   float64 \n",
       "-------- ----- ------------------- --------- ... ------ --------- ---------\n",
       "0.014837     1 1825190337236422016           ... Simbad 293.93649  18.94518"
      ]
     },
     "execution_count": 12,
     "metadata": {},
     "output_type": "execute_result"
    }
   ],
   "source": [
    "conesearch_records = voresource.get_service(\"conesearch\").search(\n",
    "    pos = conesearch_center,\n",
    "    sr = conesearch_radius,\n",
    ")\n",
    "conesearch_records"
   ]
  },
  {
   "cell_type": "markdown",
   "id": "3b64cf21",
   "metadata": {},
   "source": [
    "## 4. Get the catalogue coverage\n",
    "\n",
    "VizieR also provides the coverage of each catalogue with Multiple Order Coverage (<a href='https://ivoa.net/documents/MOC/'>MOC</a>) at order 10 -- meaning with a 0.001 rad spacial resolution."
   ]
  },
  {
   "cell_type": "code",
   "execution_count": 13,
   "id": "83515611",
   "metadata": {},
   "outputs": [
    {
     "data": {
      "image/png": "[encoded data removed]",
      "text/plain": [
       "<Figure size 640x480 with 1 Axes>"
      ]
     },
     "metadata": {},
     "output_type": "display_data"
    }
   ],
   "source": [
    "# Retrieve the MOC\n",
    "catalogue_coverage = MOC.from_fits(\n",
    "    f\"https://cdsarc.cds.unistra.fr/viz-bin/moc/{CATALOGUE}\",\n",
    ")\n",
    "catalogue_coverage.display_preview()"
   ]
  },
  {
   "cell_type": "markdown",
   "id": "73e0420b",
   "metadata": {},
   "source": [
    "We can plot the coverage with ``matplotlib``."
   ]
  },
  {
   "cell_type": "code",
   "execution_count": 14,
   "id": "f353ff25",
   "metadata": {},
   "outputs": [
    {
     "data": {
      "image/png": "[encoded data removed]",
      "text/plain": [
       "<Figure size 500x500 with 1 Axes>"
      ]
     },
     "metadata": {},
     "output_type": "display_data"
    }
   ],
   "source": [
    "fig = plt.figure(figsize = (5, 5))\n",
    "wcs = catalogue_coverage.wcs(fig)\n",
    "ax = fig.add_subplot(projection = wcs)\n",
    "catalogue_coverage.fill(ax = ax, wcs = wcs, alpha = 0.5, color = \"blue\")"
   ]
  },
  {
   "cell_type": "markdown",
   "id": "c2140b0f",
   "metadata": {},
   "source": [
    "or with ipyaladin"
   ]
  },
  {
   "cell_type": "code",
   "execution_count": 15,
   "id": "d1819f9f",
   "metadata": {},
   "outputs": [
    {
     "name": "stderr",
     "output_type": "stream",
     "text": [
      "C:\\Users\\GWend\\AppData\\Local\\Programs\\Python\\Python39\\lib\\site-packages\\traitlets\\traitlets.py:842: DeprecationWarning: Deprecated in traitlets 4.1, use the instance .metadata dictionary directly, like x.metadata[key] or x.metadata.get(key, default)\n",
      "  warn(\"Deprecated in traitlets 4.1, \" + msg, DeprecationWarning, stacklevel=2)\n"
     ]
    },
    {
     "data": {
      "application/vnd.jupyter.widget-view+json": {
       "model_id": "d1b5b3748a2f4f62ab33ff3162096b0f",
       "version_major": 2,
       "version_minor": 1
      },
      "text/plain": [
       "Aladin(init_options=['_fov', '_target', 'background_color', 'coo_frame', 'full_screen', 'grid_color', 'grid_op…"
      ]
     },
     "execution_count": 15,
     "metadata": {},
     "output_type": "execute_result"
    }
   ],
   "source": [
    "aladin = Aladin()\n",
    "aladin"
   ]
  },
  {
   "cell_type": "markdown",
   "id": "8b095bfe",
   "metadata": {},
   "source": [
    "We can add the tables and coverage in this ipyaladin window."
   ]
  },
  {
   "cell_type": "code",
   "execution_count": 16,
   "id": "0f5cfbcf",
   "metadata": {},
   "outputs": [
    {
     "name": "stderr",
     "output_type": "stream",
     "text": [
      "WARNING: W03: ?:?:?: W03: Implicitly generating an ID from a name 'E(B-V)' -> 'E_B-V_' [astropy.io.votable.xmlutil]\n",
      "WARNING: W03: ?:?:?: W03: Implicitly generating an ID from a name '[Fe/H]' -> '__Fe_H_' [astropy.io.votable.xmlutil]\n",
      "WARNING: W03: ?:?:?: W03: Implicitly generating an ID from a name 'e_E(B-V)' -> 'e_E_B-V_' [astropy.io.votable.xmlutil]\n",
      "WARNING: W03: ?:?:?: W03: Implicitly generating an ID from a name 'e_[Fe/H]' -> 'e__Fe_H_' [astropy.io.votable.xmlutil]\n"
     ]
    }
   ],
   "source": [
    "aladin.add_table(conesearch_records.to_table())"
   ]
  },
  {
   "cell_type": "code",
   "execution_count": 17,
   "id": "be3e5bc6",
   "metadata": {},
   "outputs": [],
   "source": [
    "aladin.add_table(tap_records.to_table())"
   ]
  },
  {
   "cell_type": "code",
   "execution_count": 18,
   "id": "cb914f2d",
   "metadata": {},
   "outputs": [
    {
     "name": "stderr",
     "output_type": "stream",
     "text": [
      "C:\\Users\\GWend\\AppData\\Local\\Temp\\ipykernel_17688\\4176677260.py:1: DeprecationWarning: add_moc_from_URL is replaced by add_moc that detects automaticallythat the MOC was given as an URL.\n",
      "  aladin.add_moc_from_URL(\n"
     ]
    }
   ],
   "source": [
    "aladin.add_moc_from_URL(\n",
    "    f\"https://cdsarc.cds.unistra.fr/viz-bin/moc/{CATALOGUE}\",\n",
    "    moc_options={\"opacity\": 0.5, \"color\": \"pink\"},\n",
    ")"
   ]
  },
  {
   "cell_type": "markdown",
   "id": "d607af45",
   "metadata": {},
   "source": [
    "For more information about manipulating coverages, see [MOCpy documentation](https://cds-astro.github.io/mocpy/)."
   ]
  }
 ],
 "metadata": {
  "kernelspec": {
   "display_name": "Python 3 (ipykernel)",
   "language": "python",
   "name": "python3"
  },
  "language_info": {
   "codemirror_mode": {
    "name": "ipython",
    "version": 3
   },
   "file_extension": ".py",
   "mimetype": "text/x-python",
   "name": "python",
   "nbconvert_exporter": "python",
   "pygments_lexer": "ipython3",
   "version": "3.9.10"
  },
  "widgets": {
   "application/vnd.jupyter.widget-state+json": {
    "state": {
     "614c056f9da546e99e13516067d84b51": {
      "model_module": "ipyaladin",
      "model_module_version": "^0.2.5",
      "model_name": "AladinModel",
      "state": {
       "_model_module_version": "^0.2.5",
       "_view_module_version": "^0.2.5",
       "allow_full_zoomout": false,
       "color_map_flag": true,
       "color_map_name": "",
       "coo_frame": "J2000",
       "fov": 0.40402,
       "full_screen": false,
       "height": 400,
       "layout": "IPY_MODEL_b614942c85f143f29cb69fd61d31fc08",
       "listener_flag": true,
       "listener_type": "",
       "log": true,
       "moc_URL": "https://cdsarc.cds.unistra.fr/viz-bin/moc/J/AJ/157/229",
       "moc_dict": {},
       "moc_from_URL_flag": false,
       "moc_from_dict_flag": true,
       "moc_options": {
        "color": "pink",
        "opacity": 0.5
       },
       "options": [
        "allow_full_zoomout",
        "coo_frame",
        "fov",
        "full_screen",
        "log",
        "overlay_survey",
        "overlay_survey_opacity",
        "reticle_color",
        "reticle_size",
        "show_catalog",
        "show_context_menu",
        "show_coo_grid",
        "show_frame",
        "show_fullscreen_control",
        "show_goto_control",
        "show_layers_control",
        "show_reticle",
        "show_share_control",
        "show_simbad_pointer_control",
        "show_zoom_control",
        "survey",
        "target"
       ],
       "overlay_from_stcs_flag": true,
       "overlay_options": {},
       "overlay_survey": "",
       "overlay_survey_opacity": 0,
       "rectangular_selection_flag": true,
       "reticle_color": "rgb(178, 50, 178)",
       "reticle_size": 22,
       "show_catalog": true,
       "show_context_menu": true,
       "show_coo_grid": false,
       "show_frame": true,
       "show_fullscreen_control": false,
       "show_goto_control": true,
       "show_layers_control": true,
       "show_reticle": true,
       "show_share_control": false,
       "show_simbad_pointer_control": true,
       "show_zoom_control": true,
       "stc_string": "",
       "survey": "P/DSS2/color",
       "table_columns": [
        [
         1,
         "1757132",
         7608,
         42.48899841308594,
         3.298799967454795e-14,
         7.765999871681779e-16,
         3.2987999886306186e-16,
         8,
         211.1,
         1
        ],
        [
         2,
         "1757132",
         7624,
         55.70100021362305,
         3.3175000832379176e-14,
         6.217699877066171e-16,
         3.3175000938258294e-16,
         8,
         211.1,
         1
        ],
        [
         3,
         "1757132",
         7640,
         67.34300231933594,
         3.196099933105642e-14,
         5.155499914781189e-16,
         3.196099890753995e-16,
         8,
         211.1,
         1
        ],
        [
         4,
         "1757132",
         7656,
         83.2770004272461,
         3.1485000696017396e-14,
         4.2738000265781385e-16,
         3.1485000801896514e-16,
         8,
         211.1,
         1
        ],
        [
         5,
         "1757132",
         7672,
         108.45999908447266,
         3.169599999131023e-14,
         3.4893998718173733e-16,
         3.169599935603552e-16,
         8,
         211.1,
         1
        ],
        [
         6,
         "1757132",
         7688,
         142.10000610351562,
         3.182499972104527e-14,
         2.856200127399625e-16,
         3.182499982692439e-16,
         8,
         211.1,
         1
        ],
        [
         7,
         "1757132",
         7704,
         183.4600067138672,
         3.21299993446926e-14,
         2.3906999363462235e-16,
         3.2130000509362903e-16,
         8,
         211.1,
         1
        ],
        [
         8,
         "1757132",
         7720,
         222.55999755859375,
         3.195000145526927e-14,
         2.072299986775536e-16,
         3.1950000714115444e-16,
         8,
         211.1,
         1
        ],
        [
         9,
         "1757132",
         7736,
         253.0500030517578,
         3.1498000957691855e-14,
         1.8742999473055349e-16,
         3.1498000110658907e-16,
         8,
         211.1,
         1
        ],
        [
         10,
         "1757132",
         7752,
         275.17999267578125,
         3.10060001762133e-14,
         1.745300005812257e-16,
         3.1006001023246247e-16,
         8,
         211.1,
         1
        ]
       ],
       "table_flag": false,
       "table_keys": [
        "recno",
        "ID",
        "Wave",
        "Net",
        "Flux",
        "Stat-err",
        "Sys-err",
        "Nobs",
        "Exp",
        "Qual"
       ],
       "target": "76.446253 52.849186",
       "thumbnail_flag": true,
       "votable_URL": "",
       "votable_from_URL_flag": true,
       "votable_options": {}
      }
     },
     "b614942c85f143f29cb69fd61d31fc08": {
      "model_module": "@jupyter-widgets/base",
      "model_module_version": "2.0.0",
      "model_name": "LayoutModel",
      "state": {}
     }
    },
    "version_major": 2,
    "version_minor": 0
   }
  }
 },
 "nbformat": 4,
 "nbformat_minor": 5
}
